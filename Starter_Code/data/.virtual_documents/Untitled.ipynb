import pandas as pd

# Load the CSV
file_path = "dept_emp.csv"
df = pd.read_csv(file_path)


# Check for issues
print("Data Types:\n", df.dtypes)
print("Missing Values:\n", df.isnull().sum())



# Convert emp_no to numeric and drop invalid rows
df['emp_no'] = pd.to_numeric(df['emp_no'], errors='coerce')  # Convert to numeric, setting invalid values to NaN
df = df.dropna(subset=['emp_no'])  # Drop rows where emp_no is NaN
df['emp_no'] = df['emp_no'].astype(int)  # Convert back to integer


# Save the cleaned CSV
cleaned_file_path = "dept_emp_cleaned.csv"
df.to_csv(cleaned_file_path, index=False)
cleaned_file_path



