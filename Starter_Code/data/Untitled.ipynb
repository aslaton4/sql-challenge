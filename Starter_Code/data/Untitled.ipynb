{
 "cells": [
  {
   "cell_type": "code",
   "execution_count": 2,
   "id": "8fef12c5-28fe-4fc3-bf32-fb645247dd93",
   "metadata": {},
   "outputs": [],
   "source": [
    "import pandas as pd\n",
    "\n",
    "# Load the CSV\n",
    "file_path = \"dept_emp.csv\"\n",
    "df = pd.read_csv(file_path)"
   ]
  },
  {
   "cell_type": "code",
   "execution_count": 3,
   "id": "ef9b5294-fbfe-43ce-8856-7c85154217c9",
   "metadata": {},
   "outputs": [
    {
     "name": "stdout",
     "output_type": "stream",
     "text": [
      "Data Types:\n",
      " emp_no      int64\n",
      "dept_no    object\n",
      "dtype: object\n",
      "Missing Values:\n",
      " emp_no     0\n",
      "dept_no    0\n",
      "dtype: int64\n"
     ]
    }
   ],
   "source": [
    "# Check for issues\n",
    "print(\"Data Types:\\n\", df.dtypes)\n",
    "print(\"Missing Values:\\n\", df.isnull().sum())"
   ]
  },
  {
   "cell_type": "code",
   "execution_count": 5,
   "id": "050d4f02-6d5c-4094-804c-f7365b5dcf9b",
   "metadata": {},
   "outputs": [],
   "source": [
    "\n",
    "# Convert emp_no to numeric and drop invalid rows\n",
    "df['emp_no'] = pd.to_numeric(df['emp_no'], errors='coerce')  # Convert to numeric, setting invalid values to NaN\n",
    "df = df.dropna(subset=['emp_no'])  # Drop rows where emp_no is NaN\n",
    "df['emp_no'] = df['emp_no'].astype(int)  # Convert back to integer"
   ]
  },
  {
   "cell_type": "code",
   "execution_count": 6,
   "id": "36d1532d-b2ce-477e-a360-348b1a541f5d",
   "metadata": {},
   "outputs": [
    {
     "data": {
      "text/plain": [
       "'dept_emp_cleaned.csv'"
      ]
     },
     "execution_count": 6,
     "metadata": {},
     "output_type": "execute_result"
    }
   ],
   "source": [
    "# Save the cleaned CSV\n",
    "cleaned_file_path = \"dept_emp_cleaned.csv\"\n",
    "df.to_csv(cleaned_file_path, index=False)\n",
    "cleaned_file_path"
   ]
  },
  {
   "cell_type": "code",
   "execution_count": null,
   "id": "bde33969-f5c8-48d2-a5cf-576d3f81a9e4",
   "metadata": {},
   "outputs": [],
   "source": []
  }
 ],
 "metadata": {
  "kernelspec": {
   "display_name": "Python 3 (ipykernel)",
   "language": "python",
   "name": "python3"
  },
  "language_info": {
   "codemirror_mode": {
    "name": "ipython",
    "version": 3
   },
   "file_extension": ".py",
   "mimetype": "text/x-python",
   "name": "python",
   "nbconvert_exporter": "python",
   "pygments_lexer": "ipython3",
   "version": "3.10.14"
  }
 },
 "nbformat": 4,
 "nbformat_minor": 5
}
